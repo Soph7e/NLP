{
 "cells": [
  {
   "cell_type": "markdown",
   "metadata": {},
   "source": [
    "# Task2 数据读取与数据分析"
   ]
  },
  {
   "cell_type": "markdown",
   "metadata": {},
   "source": [
    "主要内容为数据读取和数据分析，具体使用Pandas库完成数据读取操作，并对赛题数据进行分析构成。\n",
    "- 学习使用Pandas读取赛题数据\n",
    "- 分析赛题数据的分布规律"
   ]
  },
  {
   "cell_type": "markdown",
   "metadata": {},
   "source": [
    "### 数据读取\n",
    "赛题数据虽然是文本数据，每个新闻是不定长的，但任然使用csv格式进行存储。\n",
    "\n",
    "因此可以直接用Pandas完成数据读取的操作"
   ]
  },
  {
   "cell_type": "markdown",
   "metadata": {},
   "source": [
    "### 这里的read_csv由三部分构成：\n",
    "\n",
    "- 读取的文件路径，这里需要根据改成你本地的路径，可以使用相对路径或绝对路径；\n",
    "\n",
    "- 分隔符sep，为每列分割的字符，设置为\\t即可；\n",
    "\n",
    "- 读取行数nrows，为此次读取文件的函数，是数值类型（由于数据集比较大，建议先设置为100）；"
   ]
  },
  {
   "cell_type": "code",
   "execution_count": 1,
   "metadata": {},
   "outputs": [],
   "source": [
    "import pandas as pd"
   ]
  },
  {
   "cell_type": "code",
   "execution_count": 3,
   "metadata": {},
   "outputs": [],
   "source": [
    "train_df = pd.read_csv('./train_set.csv', sep='\\t', nrows=100)"
   ]
  },
  {
   "cell_type": "code",
   "execution_count": 4,
   "metadata": {
    "collapsed": true,
    "jupyter": {
     "outputs_hidden": true
    }
   },
   "outputs": [
    {
     "data": {
      "text/html": [
       "<div>\n",
       "<style scoped>\n",
       "    .dataframe tbody tr th:only-of-type {\n",
       "        vertical-align: middle;\n",
       "    }\n",
       "\n",
       "    .dataframe tbody tr th {\n",
       "        vertical-align: top;\n",
       "    }\n",
       "\n",
       "    .dataframe thead th {\n",
       "        text-align: right;\n",
       "    }\n",
       "</style>\n",
       "<table border=\"1\" class=\"dataframe\">\n",
       "  <thead>\n",
       "    <tr style=\"text-align: right;\">\n",
       "      <th></th>\n",
       "      <th>label</th>\n",
       "      <th>text</th>\n",
       "    </tr>\n",
       "  </thead>\n",
       "  <tbody>\n",
       "    <tr>\n",
       "      <th>0</th>\n",
       "      <td>2</td>\n",
       "      <td>2967 6758 339 2021 1854 3731 4109 3792 4149 15...</td>\n",
       "    </tr>\n",
       "    <tr>\n",
       "      <th>1</th>\n",
       "      <td>11</td>\n",
       "      <td>4464 486 6352 5619 2465 4802 1452 3137 5778 54...</td>\n",
       "    </tr>\n",
       "    <tr>\n",
       "      <th>2</th>\n",
       "      <td>3</td>\n",
       "      <td>7346 4068 5074 3747 5681 6093 1777 2226 7354 6...</td>\n",
       "    </tr>\n",
       "    <tr>\n",
       "      <th>3</th>\n",
       "      <td>2</td>\n",
       "      <td>7159 948 4866 2109 5520 2490 211 3956 5520 549...</td>\n",
       "    </tr>\n",
       "    <tr>\n",
       "      <th>4</th>\n",
       "      <td>3</td>\n",
       "      <td>3646 3055 3055 2490 4659 6065 3370 5814 2465 5...</td>\n",
       "    </tr>\n",
       "    <tr>\n",
       "      <th>5</th>\n",
       "      <td>9</td>\n",
       "      <td>3819 4525 1129 6725 6485 2109 3800 5264 1006 4...</td>\n",
       "    </tr>\n",
       "    <tr>\n",
       "      <th>6</th>\n",
       "      <td>3</td>\n",
       "      <td>307 4780 6811 1580 7539 5886 5486 3433 6644 58...</td>\n",
       "    </tr>\n",
       "    <tr>\n",
       "      <th>7</th>\n",
       "      <td>10</td>\n",
       "      <td>26 4270 1866 5977 3523 3764 4464 3659 4853 517...</td>\n",
       "    </tr>\n",
       "    <tr>\n",
       "      <th>8</th>\n",
       "      <td>12</td>\n",
       "      <td>2708 2218 5915 4559 886 1241 4819 314 4261 166...</td>\n",
       "    </tr>\n",
       "    <tr>\n",
       "      <th>9</th>\n",
       "      <td>3</td>\n",
       "      <td>3654 531 1348 29 4553 6722 1474 5099 7541 307 ...</td>\n",
       "    </tr>\n",
       "    <tr>\n",
       "      <th>10</th>\n",
       "      <td>0</td>\n",
       "      <td>3659 3659 1903 1866 4326 4744 7239 3479 4261 4...</td>\n",
       "    </tr>\n",
       "    <tr>\n",
       "      <th>11</th>\n",
       "      <td>7</td>\n",
       "      <td>6469 1066 1623 1018 3694 4089 3809 4516 6656 3...</td>\n",
       "    </tr>\n",
       "    <tr>\n",
       "      <th>12</th>\n",
       "      <td>4</td>\n",
       "      <td>3772 4269 3433 6122 2035 4531 465 6565 498 358...</td>\n",
       "    </tr>\n",
       "    <tr>\n",
       "      <th>13</th>\n",
       "      <td>0</td>\n",
       "      <td>4630 2210 1641 1854 1641 4543 3017 4409 5430 6...</td>\n",
       "    </tr>\n",
       "    <tr>\n",
       "      <th>14</th>\n",
       "      <td>0</td>\n",
       "      <td>1103 6835 3433 2107 5165 7543 3598 5229 1946 2...</td>\n",
       "    </tr>\n",
       "    <tr>\n",
       "      <th>15</th>\n",
       "      <td>1</td>\n",
       "      <td>4412 5988 5036 4216 7539 5644 1906 2380 2252 6...</td>\n",
       "    </tr>\n",
       "    <tr>\n",
       "      <th>16</th>\n",
       "      <td>1</td>\n",
       "      <td>2400 4411 5968 2612 6920 4464 3659 6250 2799 5...</td>\n",
       "    </tr>\n",
       "    <tr>\n",
       "      <th>17</th>\n",
       "      <td>2</td>\n",
       "      <td>2410 6587 6644 2727 4109 5247 5310 5547 5949 7...</td>\n",
       "    </tr>\n",
       "    <tr>\n",
       "      <th>18</th>\n",
       "      <td>4</td>\n",
       "      <td>3170 3508 4163 2974 1952 4417 4987 5505 4163 2...</td>\n",
       "    </tr>\n",
       "    <tr>\n",
       "      <th>19</th>\n",
       "      <td>2</td>\n",
       "      <td>4269 3772 5445 2289 2109 5410 1991 5589 2986 1...</td>\n",
       "    </tr>\n",
       "    <tr>\n",
       "      <th>20</th>\n",
       "      <td>0</td>\n",
       "      <td>6569 4690 2663 5391 1315 3987 1519 4893 7539 3...</td>\n",
       "    </tr>\n",
       "    <tr>\n",
       "      <th>21</th>\n",
       "      <td>1</td>\n",
       "      <td>3017 505 1070 1036 2621 4480 5117 3772 4786 56...</td>\n",
       "    </tr>\n",
       "    <tr>\n",
       "      <th>22</th>\n",
       "      <td>2</td>\n",
       "      <td>3263 6104 7539 5744 2827 2367 4893 1647 4315 1...</td>\n",
       "    </tr>\n",
       "    <tr>\n",
       "      <th>23</th>\n",
       "      <td>2</td>\n",
       "      <td>3418 1939 220 6886 623 149 1679 3099 1324 7543...</td>\n",
       "    </tr>\n",
       "    <tr>\n",
       "      <th>24</th>\n",
       "      <td>12</td>\n",
       "      <td>314 4261 1667 2810 2334 5176 2376 4646 478 132...</td>\n",
       "    </tr>\n",
       "    <tr>\n",
       "      <th>25</th>\n",
       "      <td>4</td>\n",
       "      <td>7154 2592 5562 2828 4559 2376 5780 3650 3203 5...</td>\n",
       "    </tr>\n",
       "    <tr>\n",
       "      <th>26</th>\n",
       "      <td>3</td>\n",
       "      <td>1965 2717 2728 1951 3744 4831 5698 3915 5099 5...</td>\n",
       "    </tr>\n",
       "    <tr>\n",
       "      <th>27</th>\n",
       "      <td>4</td>\n",
       "      <td>6861 6654 1362 4333 3272 1697 7044 1519 4516 4...</td>\n",
       "    </tr>\n",
       "    <tr>\n",
       "      <th>28</th>\n",
       "      <td>1</td>\n",
       "      <td>1141 5915 6178 4842 6725 7261 7408 4671 6846 5...</td>\n",
       "    </tr>\n",
       "    <tr>\n",
       "      <th>29</th>\n",
       "      <td>1</td>\n",
       "      <td>2289 6357 3577 751 2402 3377 5589 4853 7467 51...</td>\n",
       "    </tr>\n",
       "    <tr>\n",
       "      <th>...</th>\n",
       "      <td>...</td>\n",
       "      <td>...</td>\n",
       "    </tr>\n",
       "    <tr>\n",
       "      <th>70</th>\n",
       "      <td>11</td>\n",
       "      <td>5778 3641 1511 6362 3725 955 2465 6122 7013 37...</td>\n",
       "    </tr>\n",
       "    <tr>\n",
       "      <th>71</th>\n",
       "      <td>6</td>\n",
       "      <td>7058 6045 6656 2477 7539 2289 6242 2106 4454 8...</td>\n",
       "    </tr>\n",
       "    <tr>\n",
       "      <th>72</th>\n",
       "      <td>1</td>\n",
       "      <td>2400 4411 3351 4007 3310 1110 3772 4933 5698 4...</td>\n",
       "    </tr>\n",
       "    <tr>\n",
       "      <th>73</th>\n",
       "      <td>8</td>\n",
       "      <td>2087 730 5166 3300 7539 1722 5305 913 4326 669...</td>\n",
       "    </tr>\n",
       "    <tr>\n",
       "      <th>74</th>\n",
       "      <td>9</td>\n",
       "      <td>5397 2768 1348 4921 2538 1722 7346 1031 6508 3...</td>\n",
       "    </tr>\n",
       "    <tr>\n",
       "      <th>75</th>\n",
       "      <td>2</td>\n",
       "      <td>5678 1362 4149 3370 3370 3370 6242 5389 2539 3...</td>\n",
       "    </tr>\n",
       "    <tr>\n",
       "      <th>76</th>\n",
       "      <td>2</td>\n",
       "      <td>3530 2595 6644 3659 3370 4464 4464 7309 2549 3...</td>\n",
       "    </tr>\n",
       "    <tr>\n",
       "      <th>77</th>\n",
       "      <td>8</td>\n",
       "      <td>2465 1158 5785 2112 1158 5785 2112 6511 1471 3...</td>\n",
       "    </tr>\n",
       "    <tr>\n",
       "      <th>78</th>\n",
       "      <td>2</td>\n",
       "      <td>299 6501 1215 5915 3641 7539 5057 669 2197 729...</td>\n",
       "    </tr>\n",
       "    <tr>\n",
       "      <th>79</th>\n",
       "      <td>11</td>\n",
       "      <td>6811 1580 7539 6272 5295 6333 6203 4063 6012 2...</td>\n",
       "    </tr>\n",
       "    <tr>\n",
       "      <th>80</th>\n",
       "      <td>0</td>\n",
       "      <td>4989 38 2376 5520 669 350 3440 2402 2465 1292 ...</td>\n",
       "    </tr>\n",
       "    <tr>\n",
       "      <th>81</th>\n",
       "      <td>2</td>\n",
       "      <td>7154 4486 4704 7539 23 88 4109 4933 3792 2983 ...</td>\n",
       "    </tr>\n",
       "    <tr>\n",
       "      <th>82</th>\n",
       "      <td>8</td>\n",
       "      <td>6469 4902 2119 3809 3586 281 4902 2119 3809 74...</td>\n",
       "    </tr>\n",
       "    <tr>\n",
       "      <th>83</th>\n",
       "      <td>5</td>\n",
       "      <td>6122 1460 5136 4036 794 2732 5099 7134 751 663...</td>\n",
       "    </tr>\n",
       "    <tr>\n",
       "      <th>84</th>\n",
       "      <td>0</td>\n",
       "      <td>7256 134 7539 3433 4409 1036 2621 4480 5117 37...</td>\n",
       "    </tr>\n",
       "    <tr>\n",
       "      <th>85</th>\n",
       "      <td>1</td>\n",
       "      <td>5284 1779 7039 2538 7539 3870 6886 3015 619 20...</td>\n",
       "    </tr>\n",
       "    <tr>\n",
       "      <th>86</th>\n",
       "      <td>0</td>\n",
       "      <td>5810 6308 669 544 1913 2461 6469 4180 2799 169...</td>\n",
       "    </tr>\n",
       "    <tr>\n",
       "      <th>87</th>\n",
       "      <td>0</td>\n",
       "      <td>7045 6390 5589 2399 4139 2465 2107 5165 3577 3...</td>\n",
       "    </tr>\n",
       "    <tr>\n",
       "      <th>88</th>\n",
       "      <td>4</td>\n",
       "      <td>2145 2370 7400 3433 6122 3070 6666 1116 1232 3...</td>\n",
       "    </tr>\n",
       "    <tr>\n",
       "      <th>89</th>\n",
       "      <td>1</td>\n",
       "      <td>6654 3780 3949 4412 2210 340 6654 5416 4412 22...</td>\n",
       "    </tr>\n",
       "    <tr>\n",
       "      <th>90</th>\n",
       "      <td>6</td>\n",
       "      <td>299 6501 2555 3607 3067 62 3080 7539 307 2555 ...</td>\n",
       "    </tr>\n",
       "    <tr>\n",
       "      <th>91</th>\n",
       "      <td>1</td>\n",
       "      <td>3945 7444 5538 7403 3015 1913 2465 4595 1148 4...</td>\n",
       "    </tr>\n",
       "    <tr>\n",
       "      <th>92</th>\n",
       "      <td>13</td>\n",
       "      <td>1903 2112 3019 3607 7539 3864 4939 4768 3420 2...</td>\n",
       "    </tr>\n",
       "    <tr>\n",
       "      <th>93</th>\n",
       "      <td>1</td>\n",
       "      <td>2402 3377 2210 6040 1080 4958 1241 3056 2456 9...</td>\n",
       "    </tr>\n",
       "    <tr>\n",
       "      <th>94</th>\n",
       "      <td>6</td>\n",
       "      <td>2923 913 7539 6038 6831 6014 5620 669 4939 644...</td>\n",
       "    </tr>\n",
       "    <tr>\n",
       "      <th>95</th>\n",
       "      <td>7</td>\n",
       "      <td>6065 3370 1519 499 7157 5620 3317 1679 3270 12...</td>\n",
       "    </tr>\n",
       "    <tr>\n",
       "      <th>96</th>\n",
       "      <td>1</td>\n",
       "      <td>7256 134 7539 7543 3137 3335 2695 669 3068 333...</td>\n",
       "    </tr>\n",
       "    <tr>\n",
       "      <th>97</th>\n",
       "      <td>2</td>\n",
       "      <td>7160 5087 2400 4411 7044 1519 7039 2265 408 67...</td>\n",
       "    </tr>\n",
       "    <tr>\n",
       "      <th>98</th>\n",
       "      <td>2</td>\n",
       "      <td>507 6981 2999 62 3080 6704 5310 2400 4411 1099...</td>\n",
       "    </tr>\n",
       "    <tr>\n",
       "      <th>99</th>\n",
       "      <td>4</td>\n",
       "      <td>3870 3641 6248 913 1866 7495 3648 5370 4333 45...</td>\n",
       "    </tr>\n",
       "  </tbody>\n",
       "</table>\n",
       "<p>100 rows × 2 columns</p>\n",
       "</div>"
      ],
      "text/plain": [
       "    label                                               text\n",
       "0       2  2967 6758 339 2021 1854 3731 4109 3792 4149 15...\n",
       "1      11  4464 486 6352 5619 2465 4802 1452 3137 5778 54...\n",
       "2       3  7346 4068 5074 3747 5681 6093 1777 2226 7354 6...\n",
       "3       2  7159 948 4866 2109 5520 2490 211 3956 5520 549...\n",
       "4       3  3646 3055 3055 2490 4659 6065 3370 5814 2465 5...\n",
       "5       9  3819 4525 1129 6725 6485 2109 3800 5264 1006 4...\n",
       "6       3  307 4780 6811 1580 7539 5886 5486 3433 6644 58...\n",
       "7      10  26 4270 1866 5977 3523 3764 4464 3659 4853 517...\n",
       "8      12  2708 2218 5915 4559 886 1241 4819 314 4261 166...\n",
       "9       3  3654 531 1348 29 4553 6722 1474 5099 7541 307 ...\n",
       "10      0  3659 3659 1903 1866 4326 4744 7239 3479 4261 4...\n",
       "11      7  6469 1066 1623 1018 3694 4089 3809 4516 6656 3...\n",
       "12      4  3772 4269 3433 6122 2035 4531 465 6565 498 358...\n",
       "13      0  4630 2210 1641 1854 1641 4543 3017 4409 5430 6...\n",
       "14      0  1103 6835 3433 2107 5165 7543 3598 5229 1946 2...\n",
       "15      1  4412 5988 5036 4216 7539 5644 1906 2380 2252 6...\n",
       "16      1  2400 4411 5968 2612 6920 4464 3659 6250 2799 5...\n",
       "17      2  2410 6587 6644 2727 4109 5247 5310 5547 5949 7...\n",
       "18      4  3170 3508 4163 2974 1952 4417 4987 5505 4163 2...\n",
       "19      2  4269 3772 5445 2289 2109 5410 1991 5589 2986 1...\n",
       "20      0  6569 4690 2663 5391 1315 3987 1519 4893 7539 3...\n",
       "21      1  3017 505 1070 1036 2621 4480 5117 3772 4786 56...\n",
       "22      2  3263 6104 7539 5744 2827 2367 4893 1647 4315 1...\n",
       "23      2  3418 1939 220 6886 623 149 1679 3099 1324 7543...\n",
       "24     12  314 4261 1667 2810 2334 5176 2376 4646 478 132...\n",
       "25      4  7154 2592 5562 2828 4559 2376 5780 3650 3203 5...\n",
       "26      3  1965 2717 2728 1951 3744 4831 5698 3915 5099 5...\n",
       "27      4  6861 6654 1362 4333 3272 1697 7044 1519 4516 4...\n",
       "28      1  1141 5915 6178 4842 6725 7261 7408 4671 6846 5...\n",
       "29      1  2289 6357 3577 751 2402 3377 5589 4853 7467 51...\n",
       "..    ...                                                ...\n",
       "70     11  5778 3641 1511 6362 3725 955 2465 6122 7013 37...\n",
       "71      6  7058 6045 6656 2477 7539 2289 6242 2106 4454 8...\n",
       "72      1  2400 4411 3351 4007 3310 1110 3772 4933 5698 4...\n",
       "73      8  2087 730 5166 3300 7539 1722 5305 913 4326 669...\n",
       "74      9  5397 2768 1348 4921 2538 1722 7346 1031 6508 3...\n",
       "75      2  5678 1362 4149 3370 3370 3370 6242 5389 2539 3...\n",
       "76      2  3530 2595 6644 3659 3370 4464 4464 7309 2549 3...\n",
       "77      8  2465 1158 5785 2112 1158 5785 2112 6511 1471 3...\n",
       "78      2  299 6501 1215 5915 3641 7539 5057 669 2197 729...\n",
       "79     11  6811 1580 7539 6272 5295 6333 6203 4063 6012 2...\n",
       "80      0  4989 38 2376 5520 669 350 3440 2402 2465 1292 ...\n",
       "81      2  7154 4486 4704 7539 23 88 4109 4933 3792 2983 ...\n",
       "82      8  6469 4902 2119 3809 3586 281 4902 2119 3809 74...\n",
       "83      5  6122 1460 5136 4036 794 2732 5099 7134 751 663...\n",
       "84      0  7256 134 7539 3433 4409 1036 2621 4480 5117 37...\n",
       "85      1  5284 1779 7039 2538 7539 3870 6886 3015 619 20...\n",
       "86      0  5810 6308 669 544 1913 2461 6469 4180 2799 169...\n",
       "87      0  7045 6390 5589 2399 4139 2465 2107 5165 3577 3...\n",
       "88      4  2145 2370 7400 3433 6122 3070 6666 1116 1232 3...\n",
       "89      1  6654 3780 3949 4412 2210 340 6654 5416 4412 22...\n",
       "90      6  299 6501 2555 3607 3067 62 3080 7539 307 2555 ...\n",
       "91      1  3945 7444 5538 7403 3015 1913 2465 4595 1148 4...\n",
       "92     13  1903 2112 3019 3607 7539 3864 4939 4768 3420 2...\n",
       "93      1  2402 3377 2210 6040 1080 4958 1241 3056 2456 9...\n",
       "94      6  2923 913 7539 6038 6831 6014 5620 669 4939 644...\n",
       "95      7  6065 3370 1519 499 7157 5620 3317 1679 3270 12...\n",
       "96      1  7256 134 7539 7543 3137 3335 2695 669 3068 333...\n",
       "97      2  7160 5087 2400 4411 7044 1519 7039 2265 408 67...\n",
       "98      2  507 6981 2999 62 3080 6704 5310 2400 4411 1099...\n",
       "99      4  3870 3641 6248 913 1866 7495 3648 5370 4333 45...\n",
       "\n",
       "[100 rows x 2 columns]"
      ]
     },
     "execution_count": 4,
     "metadata": {},
     "output_type": "execute_result"
    }
   ],
   "source": [
    "train_df"
   ]
  },
  {
   "cell_type": "markdown",
   "metadata": {},
   "source": [
    "下图是读取好的数据，是表格的形式。第一列为新闻的类别，第二列为新闻的字符。"
   ]
  },
  {
   "cell_type": "code",
   "execution_count": 12,
   "metadata": {},
   "outputs": [
    {
     "data": {
      "text/html": [
       "<div>\n",
       "<style scoped>\n",
       "    .dataframe tbody tr th:only-of-type {\n",
       "        vertical-align: middle;\n",
       "    }\n",
       "\n",
       "    .dataframe tbody tr th {\n",
       "        vertical-align: top;\n",
       "    }\n",
       "\n",
       "    .dataframe thead th {\n",
       "        text-align: right;\n",
       "    }\n",
       "</style>\n",
       "<table border=\"1\" class=\"dataframe\">\n",
       "  <thead>\n",
       "    <tr style=\"text-align: right;\">\n",
       "      <th></th>\n",
       "      <th>label</th>\n",
       "      <th>text</th>\n",
       "      <th>text_len</th>\n",
       "    </tr>\n",
       "  </thead>\n",
       "  <tbody>\n",
       "    <tr>\n",
       "      <th>0</th>\n",
       "      <td>2</td>\n",
       "      <td>2967 6758 339 2021 1854 3731 4109 3792 4149 15...</td>\n",
       "      <td>1057</td>\n",
       "    </tr>\n",
       "    <tr>\n",
       "      <th>1</th>\n",
       "      <td>11</td>\n",
       "      <td>4464 486 6352 5619 2465 4802 1452 3137 5778 54...</td>\n",
       "      <td>486</td>\n",
       "    </tr>\n",
       "    <tr>\n",
       "      <th>2</th>\n",
       "      <td>3</td>\n",
       "      <td>7346 4068 5074 3747 5681 6093 1777 2226 7354 6...</td>\n",
       "      <td>764</td>\n",
       "    </tr>\n",
       "    <tr>\n",
       "      <th>3</th>\n",
       "      <td>2</td>\n",
       "      <td>7159 948 4866 2109 5520 2490 211 3956 5520 549...</td>\n",
       "      <td>1570</td>\n",
       "    </tr>\n",
       "    <tr>\n",
       "      <th>4</th>\n",
       "      <td>3</td>\n",
       "      <td>3646 3055 3055 2490 4659 6065 3370 5814 2465 5...</td>\n",
       "      <td>307</td>\n",
       "    </tr>\n",
       "  </tbody>\n",
       "</table>\n",
       "</div>"
      ],
      "text/plain": [
       "   label                                               text  text_len\n",
       "0      2  2967 6758 339 2021 1854 3731 4109 3792 4149 15...      1057\n",
       "1     11  4464 486 6352 5619 2465 4802 1452 3137 5778 54...       486\n",
       "2      3  7346 4068 5074 3747 5681 6093 1777 2226 7354 6...       764\n",
       "3      2  7159 948 4866 2109 5520 2490 211 3956 5520 549...      1570\n",
       "4      3  3646 3055 3055 2490 4659 6065 3370 5814 2465 5...       307"
      ]
     },
     "execution_count": 12,
     "metadata": {},
     "output_type": "execute_result"
    }
   ],
   "source": [
    "# 默认输出5条数据\n",
    "train_df.head()"
   ]
  },
  {
   "cell_type": "markdown",
   "metadata": {},
   "source": [
    "### 数据分析\n",
    "在读取完成数据集后，我们还可以对数据集进行数据分析的操作。\n",
    "\n",
    "虽然对于非结构数据并不需要做很多的数据分析，但通过数据分析还是可以找出一些规律的。\n",
    "\n",
    "此步骤我们读取了所有的训练集数据，在此我们通过数据分析希望得出以下结论：\n",
    "\n",
    "- 赛题数据中，新闻文本的长度是多少？\n",
    "\n",
    "- 赛题数据的类别分布是怎么样的，哪些类别比较多？\n",
    "\n",
    "- 赛题数据中，字符分布是怎么样的？"
   ]
  },
  {
   "cell_type": "code",
   "execution_count": 6,
   "metadata": {},
   "outputs": [
    {
     "name": "stdout",
     "output_type": "stream",
     "text": [
      "Populating the interactive namespace from numpy and matplotlib\n",
      "count     100.000000\n",
      "mean      872.320000\n",
      "std       923.138191\n",
      "min        64.000000\n",
      "25%       359.500000\n",
      "50%       598.000000\n",
      "75%      1058.000000\n",
      "max      7125.000000\n",
      "Name: text_len, dtype: float64\n"
     ]
    }
   ],
   "source": [
    "%pylab inline\n",
    "train_df['text_len'] = train_df['text'].apply(lambda x : len(x.split(' ')))\n",
    "print(train_df['text_len'].describe())"
   ]
  },
  {
   "cell_type": "markdown",
   "metadata": {},
   "source": [
    "### 没有定义plt，但是可以使用？是由于%pylab inline\n",
    "\n",
    "- 使用 inline 作为 matplotlib 的后台\n",
    "\n",
    "- 简化代码，用最少的代码制作绘图"
   ]
  },
  {
   "cell_type": "code",
   "execution_count": 7,
   "metadata": {},
   "outputs": [
    {
     "data": {
      "text/plain": [
       "Text(0.5, 1.0, 'Histogram of char count')"
      ]
     },
     "execution_count": 7,
     "metadata": {},
     "output_type": "execute_result"
    },
    {
     "data": {
      "image/png": "[encoded data removed]",
      "text/plain": [
       "<Figure size 432x288 with 1 Axes>"
      ]
     },
     "metadata": {},
     "output_type": "display_data"
    }
   ],
   "source": [
    "_ = plt.hist(train_df['text_len'],bins = 200)\n",
    "plt.xlabel('Text char count')\n",
    "plt.title(\"Histogram of char count\")"
   ]
  },
  {
   "cell_type": "markdown",
   "metadata": {},
   "source": [
    "### 新闻类别分布\n",
    "对数据集类别分布统计，具体统计每一类新闻样本个数。"
   ]
  },
  {
   "cell_type": "code",
   "execution_count": 8,
   "metadata": {},
   "outputs": [
    {
     "data": {
      "text/plain": [
       "Text(0.5, 0, 'category')"
      ]
     },
     "execution_count": 8,
     "metadata": {},
     "output_type": "execute_result"
    },
    {
     "data": {
      "image/png": "[encoded data removed]",
      "text/plain": [
       "<Figure size 432x288 with 1 Axes>"
      ]
     },
     "metadata": {},
     "output_type": "display_data"
    }
   ],
   "source": [
    "train_df['label'].value_counts().plot(kind='bar')\n",
    "plt.title('News class count')\n",
    "plt.xlabel(\"category\")"
   ]
  },
  {
   "cell_type": "markdown",
   "metadata": {},
   "source": [
    "在数据集中标签的对应的关系\n",
    "\n",
    "{'科技': 0, '股票': 1, '体育': 2, '娱乐': 3, '时政': 4, '社会': 5, '教育': 6, '财经': 7, '家居': 8, '游戏': 9, '房产': 10, '时尚': 11, '彩票': 12, '星座': 13}\n",
    "\n",
    "从统计结果可以看出，赛题的数据集类别分布存在较为不均匀的情况。\n",
    "\n",
    "在训练集中科技类新闻最多，其次是股票类新闻，最少的新闻是星座新闻。"
   ]
  },
  {
   "cell_type": "markdown",
   "metadata": {},
   "source": [
    "### 字符分布统计\n",
    "统计每个字符出现的次数\n",
    "\n",
    "首先可以将训练集中所有的句子进行拼接进而划分为字符，并统计每个字符的个数。\n",
    "\n",
    "从统计结果中可以看出，在训练集中总共包括6869个字，其中编号3750的字出现的次数最多，编号3133的字出现的次数最少。"
   ]
  },
  {
   "cell_type": "code",
   "execution_count": 18,
   "metadata": {},
   "outputs": [
    {
     "name": "stdout",
     "output_type": "stream",
     "text": [
      "2405\n",
      "('3750', 3702)\n",
      "('5034', 1)\n"
     ]
    }
   ],
   "source": [
    "from collections import Counter\n",
    "\n",
    "# 拼接所有文本语句\n",
    "all_lines = ' '.join(list(train_df['text']))\n",
    "\n",
    "# 拼接后的文本进行分割\n",
    "word_count = Counter(all_lines.split(\" \"))\n",
    "\n",
    "# 按照字频数进行排序\n",
    "word_count = sorted(word_count.items(), key = lambda d:d[1], reverse = True)\n",
    "\n",
    "print(len(word_count))\n",
    "\n",
    "print(word_count[0])\n",
    "\n",
    "print(word_count[-1])"
   ]
  },
  {
   "cell_type": "code",
   "execution_count": 16,
   "metadata": {},
   "outputs": [
    {
     "name": "stdout",
     "output_type": "stream",
     "text": [
      "('3750', 99)\n",
      "('900', 99)\n",
      "('648', 96)\n"
     ]
    }
   ],
   "source": [
    "from collections import Counter\n",
    "\n",
    "train_df['text_unique'] = train_df['text'].apply(lambda x: ' '.join(list(set(x.split(' ')))))\n",
    "\n",
    "all_lines = ' '.join(list(train_df['text_unique']))\n",
    "\n",
    "word_count = Counter(all_lines.split(\" \"))\n",
    "\n",
    "word_count = sorted(word_count.items(), key=lambda d:int(d[1]), reverse = True)\n",
    "\n",
    "print(word_count[0])\n",
    "\n",
    "print(word_count[1])\n",
    "\n",
    "print(word_count[2])"
   ]
  },
  {
   "cell_type": "markdown",
   "metadata": {},
   "source": [
    "### 小结\n",
    "#### 对赛题数据进行读取，并新闻句子长度、类别和字符进行了可视化分析。\n",
    "\n",
    "通过数据分析，我们还可以得出以下结论：\n",
    "\n",
    "- 每个新闻平均字符个数较多，可能需要截断；\n",
    "\n",
    "- 由于类别不均衡，会严重影响模型的精度；"
   ]
  },
  {
   "cell_type": "markdown",
   "metadata": {},
   "source": [
    "### 作业1\n",
    "假设字符3750，字符900和字符648是句子的标点符号，请分析赛题每篇新闻平均由多少个句子构成？"
   ]
  },
  {
   "cell_type": "code",
   "execution_count": 19,
   "metadata": {},
   "outputs": [
    {
     "name": "stdout",
     "output_type": "stream",
     "text": [
      "CPU times: user 10.7 ms, sys: 8.53 ms, total: 19.2 ms\n",
      "Wall time: 17.8 ms\n"
     ]
    }
   ],
   "source": [
    "%%time\n",
    "train_df['sents_len'] = train_df['text'].apply(lambda x: len(re.split(' 3750 | 900 | 648 ', x)))\n",
    "train_df['sents_len'].describe()"
   ]
  },
  {
   "cell_type": "markdown",
   "metadata": {},
   "source": [
    "### 作业2\n",
    "\n",
    "统计每类新闻中出现次数对多的字符"
   ]
  },
  {
   "cell_type": "code",
   "execution_count": 21,
   "metadata": {},
   "outputs": [
    {
     "name": "stdout",
     "output_type": "stream",
     "text": [
      "0 ('3370', 501748)\n",
      "1 ('3370', 625287)\n",
      "2 ('7399', 351851)\n",
      "3 ('6122', 187882)\n",
      "4 ('4411', 120317)\n",
      "5 ('6122', 159089)\n",
      "6 ('6248', 193738)\n",
      "7 ('3370', 158886)\n",
      "8 ('6122', 57290)\n",
      "9 ('7328', 46466)\n",
      "10 ('3370', 67703)\n",
      "11 ('4939', 18587)\n",
      "12 ('4464', 51420)\n",
      "13 ('4939', 9648)\n",
      "CPU times: user 38.8 s, sys: 7.77 s, total: 46.5 s\n",
      "Wall time: 48.1 s\n"
     ]
    }
   ],
   "source": [
    "%%time\n",
    "train_df = pd.read_csv('train_set.csv', sep='\\t')\n",
    "train_df['text'] = train_df['text'].apply(lambda x: x.replace(' 3750',\"\").replace(' 900',\"\").replace(' 648',\"\"))\n",
    "\n",
    "# 同一类的拼接到一起\n",
    "for i in range(0, 14):\n",
    "    df = train_df[train_df['label'] == i]['text']\n",
    "    word_count = Counter(\" \".join(df.values.tolist()).split())\n",
    "    print(i, word_count.most_common(1)[0])  # 新闻类，次数最多的字符及次数"
   ]
  },
  {
   "cell_type": "code",
   "execution_count": null,
   "metadata": {},
   "outputs": [],
   "source": []
  }
 ],
 "metadata": {
  "kernelspec": {
   "display_name": "Python 3",
   "language": "python",
   "name": "python3"
  },
  "language_info": {
   "codemirror_mode": {
    "name": "ipython",
    "version": 3
   },
   "file_extension": ".py",
   "mimetype": "text/x-python",
   "name": "python",
   "nbconvert_exporter": "python",
   "pygments_lexer": "ipython3",
   "version": "3.7.6"
  }
 },
 "nbformat": 4,
 "nbformat_minor": 4
}
